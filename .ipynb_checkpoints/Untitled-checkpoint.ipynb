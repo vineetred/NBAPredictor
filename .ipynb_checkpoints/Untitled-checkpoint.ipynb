{
 "cells": [
  {
   "cell_type": "code",
   "execution_count": 1,
   "metadata": {},
   "outputs": [
    {
     "name": "stderr",
     "output_type": "stream",
     "text": [
      "Using TensorFlow backend.\n",
      "/Library/Frameworks/Python.framework/Versions/3.6/lib/python3.6/importlib/_bootstrap.py:219: RuntimeWarning: compiletime version 3.5 of module 'tensorflow.python.framework.fast_tensor_util' does not match runtime version 3.6\n",
      "  return f(*args, **kwds)\n"
     ]
    }
   ],
   "source": [
    "import numpy as np\n",
    "import keras\n",
    "from keras.models import Sequential\n",
    "from keras.layers.core import Dense\n",
    "from keras.layers import Dropout,Conv2D\n",
    "from sklearn.model_selection import train_test_split\n",
    "import csv\n",
    "import pandas as pd\n",
    "import matplotlib.pyplot as plt\n",
    "\n",
    "\n",
    "from keras.utils import to_categorical\n",
    "from sklearn.preprocessing import LabelBinarizer\n",
    "encoder = LabelBinarizer()\n"
   ]
  },
  {
   "cell_type": "code",
   "execution_count": 2,
   "metadata": {},
   "outputs": [],
   "source": [
    "home = pd.read_csv('nba.games.stats - nba_prev.csv',usecols=['Team'])\n",
    "away = pd.read_csv('nba.games.stats - nba_prev.csv',usecols=['Opponent']).values\n",
    "ha = pd.read_csv('nba.games.stats - nba_prev.csv',usecols=['Home']).values"
   ]
  },
  {
   "cell_type": "code",
   "execution_count": 3,
   "metadata": {},
   "outputs": [],
   "source": [
    "home = encoder.fit_transform(home)\n",
    "away = encoder.fit_transform(away)\n",
    "homeaway = encoder.fit_transform(ha)"
   ]
  },
  {
   "cell_type": "code",
   "execution_count": 11,
   "metadata": {},
   "outputs": [],
   "source": [
    "new = np.append(home,away,axis=1)\n",
    "new2 = pd.read_csv('nba.games.stats - nba_prev.csv',usecols=['FieldGoals','FieldGoalsAttempted','FieldGoals.','X3PointShots','X3PointShotsAttempted','X3PointShots.','FreeThrows','FreeThrowsAttempted','FreeThrows.','OffRebounds','TotalRebounds','Assists','Steals','Blocks','Turnovers','TotalFouls',\n",
    "                        'Opp.FieldGoals', 'Opp.3PointShotsAttempted', 'Opp.3PointShots.', 'Opp.FreeThrows', \n",
    "                        'Opp.FreeThrowsAttempted', 'Opp.FreeThrows.', 'Opp.OffRebounds', 'Opp.TotalRebounds', \n",
    "                        'Opp.Assists', 'Opp.Steals', 'Opp.Blocks', 'Opp.Turnovers', 'Opp.TotalFouls',\n",
    "                        'Opp.FieldGoalsAttempted', 'Opp.FieldGoals.', 'Opp.3PointShots']).values\n",
    "\n",
    "\n",
    "\n",
    "\n",
    "new3 = np.append(new,homeaway,axis=1)\n",
    "new2 = np.append(new3,new2,axis=1)\n",
    "winLoss =  pd.read_csv('nba.games.stats - nba_prev.csv',usecols=['WINorLOSS','TeamPoints','OpponentPoints']).values\n",
    "winLoss = encoder.fit_transform(winLoss)\n",
    "# points = pd.read_csv('nba.games.stats.csv',usecols=['TeamPoints','OpponentPoints']).values\n",
    "# points = np.append(points,winLoss,axis=1)\n",
    "# points.shape\n",
    "points = winLoss\n",
    "X_train, X_test, y_train, y_test = train_test_split(new2, points, test_size=0.40)"
   ]
  },
  {
   "cell_type": "code",
   "execution_count": 15,
   "metadata": {},
   "outputs": [
    {
     "name": "stdout",
     "output_type": "stream",
     "text": [
      "Epoch 1/40\n",
      "4708/4708 [==============================] - 1s 168us/step - loss: 0.3138 - acc: 0.5089\n",
      "Epoch 2/40\n",
      "4708/4708 [==============================] - 0s 59us/step - loss: 0.2533 - acc: 0.5115\n",
      "Epoch 3/40\n",
      "4708/4708 [==============================] - 0s 60us/step - loss: 0.2456 - acc: 0.5225\n",
      "Epoch 4/40\n",
      "4708/4708 [==============================] - 0s 62us/step - loss: 0.2369 - acc: 0.5561\n",
      "Epoch 5/40\n",
      "4708/4708 [==============================] - 0s 60us/step - loss: 0.2246 - acc: 0.5928\n",
      "Epoch 6/40\n",
      "4708/4708 [==============================] - 0s 61us/step - loss: 0.2123 - acc: 0.6319\n",
      "Epoch 7/40\n",
      "4708/4708 [==============================] - 0s 59us/step - loss: 0.2038 - acc: 0.6497\n",
      "Epoch 8/40\n",
      "4708/4708 [==============================] - 0s 58us/step - loss: 0.1878 - acc: 0.6825\n",
      "Epoch 9/40\n",
      "4708/4708 [==============================] - 0s 61us/step - loss: 0.1729 - acc: 0.7196\n",
      "Epoch 10/40\n",
      "4708/4708 [==============================] - 0s 74us/step - loss: 0.1647 - acc: 0.7322\n",
      "Epoch 11/40\n",
      "4708/4708 [==============================] - 0s 61us/step - loss: 0.1560 - acc: 0.7598\n",
      "Epoch 12/40\n",
      "4708/4708 [==============================] - 0s 71us/step - loss: 0.1462 - acc: 0.7738\n",
      "Epoch 13/40\n",
      "4708/4708 [==============================] - 0s 59us/step - loss: 0.1415 - acc: 0.7704\n",
      "Epoch 14/40\n",
      "4708/4708 [==============================] - 0s 58us/step - loss: 0.1374 - acc: 0.7793\n",
      "Epoch 15/40\n",
      "4708/4708 [==============================] - 0s 59us/step - loss: 0.1370 - acc: 0.7802\n",
      "Epoch 16/40\n",
      "4708/4708 [==============================] - 0s 61us/step - loss: 0.1291 - acc: 0.8012\n",
      "Epoch 17/40\n",
      "4708/4708 [==============================] - 0s 60us/step - loss: 0.1242 - acc: 0.8120\n",
      "Epoch 18/40\n",
      "4708/4708 [==============================] - 0s 68us/step - loss: 0.1165 - acc: 0.8248\n",
      "Epoch 19/40\n",
      "4708/4708 [==============================] - 0s 80us/step - loss: 0.1189 - acc: 0.8197\n",
      "Epoch 20/40\n",
      "4708/4708 [==============================] - 0s 58us/step - loss: 0.1111 - acc: 0.8377\n",
      "Epoch 21/40\n",
      "4708/4708 [==============================] - 0s 61us/step - loss: 0.1185 - acc: 0.8180\n",
      "Epoch 22/40\n",
      "4708/4708 [==============================] - 0s 68us/step - loss: 0.1076 - acc: 0.8350\n",
      "Epoch 23/40\n",
      "4708/4708 [==============================] - 0s 61us/step - loss: 0.1045 - acc: 0.8500\n",
      "Epoch 24/40\n",
      "4708/4708 [==============================] - 0s 75us/step - loss: 0.1033 - acc: 0.8556\n",
      "Epoch 25/40\n",
      "4708/4708 [==============================] - 0s 72us/step - loss: 0.1000 - acc: 0.8577\n",
      "Epoch 26/40\n",
      "4708/4708 [==============================] - 0s 65us/step - loss: 0.0942 - acc: 0.8632\n",
      "Epoch 27/40\n",
      "4708/4708 [==============================] - 0s 72us/step - loss: 0.0944 - acc: 0.8666\n",
      "Epoch 28/40\n",
      "4708/4708 [==============================] - 0s 61us/step - loss: 0.0953 - acc: 0.8628\n",
      "Epoch 29/40\n",
      "4708/4708 [==============================] - 0s 58us/step - loss: 0.0913 - acc: 0.8670\n",
      "Epoch 30/40\n",
      "4708/4708 [==============================] - 0s 62us/step - loss: 0.0923 - acc: 0.8685\n",
      "Epoch 31/40\n",
      "4708/4708 [==============================] - 0s 61us/step - loss: 0.0890 - acc: 0.8702\n",
      "Epoch 32/40\n",
      "4708/4708 [==============================] - 0s 62us/step - loss: 0.0920 - acc: 0.8643\n",
      "Epoch 33/40\n",
      "4708/4708 [==============================] - 0s 62us/step - loss: 0.0867 - acc: 0.8811\n",
      "Epoch 34/40\n",
      "4708/4708 [==============================] - 0s 60us/step - loss: 0.0866 - acc: 0.8753\n",
      "Epoch 35/40\n",
      "4708/4708 [==============================] - 0s 58us/step - loss: 0.0850 - acc: 0.8755\n",
      "Epoch 36/40\n",
      "4708/4708 [==============================] - 0s 58us/step - loss: 0.0911 - acc: 0.8694\n",
      "Epoch 37/40\n",
      "4708/4708 [==============================] - 0s 65us/step - loss: 0.0888 - acc: 0.8700\n",
      "Epoch 38/40\n",
      "4708/4708 [==============================] - 0s 61us/step - loss: 0.0815 - acc: 0.8828\n",
      "Epoch 39/40\n",
      "4708/4708 [==============================] - 0s 76us/step - loss: 0.0811 - acc: 0.8836\n",
      "Epoch 40/40\n",
      "4708/4708 [==============================] - 0s 61us/step - loss: 0.0800 - acc: 0.8857\n",
      "3140/3140 [==============================] - 0s 52us/step\n"
     ]
    },
    {
     "data": {
      "text/plain": [
       "[0.03019545178884154, 0.9646496815286624]"
      ]
     },
     "execution_count": 15,
     "metadata": {},
     "output_type": "execute_result"
    }
   ],
   "source": [
    "#MODEL\n",
    "model = Sequential()\n",
    "keras.optimizers.adam(lr=0.2)\n",
    "model.add(Dense(20, activation='relu',input_dim=93))\n",
    "model.add(Dropout(0.65))\n",
    "# model.add(Dense(46, activation='relu'))\n",
    "# model.add(Dense(30, activation='sigmoid'))\n",
    "model.add(Dense(30, activation='relu'))\n",
    "model.add(Dense(10, activation='relu'))\n",
    "\n",
    "# model.add(Dense(20, activation='relu'))\n",
    "model.add(Dense(3, activation = 'sigmoid'))\n",
    "\n",
    "model.compile(loss='mean_squared_error',\n",
    "              optimizer='adam',\n",
    "              metrics=['accuracy'])\n",
    "\n",
    "model.fit(np.asarray(X_train),np.asarray(y_train), epochs=40)\n",
    "model.evaluate(X_test,y_test)"
   ]
  },
  {
   "cell_type": "code",
   "execution_count": 16,
   "metadata": {},
   "outputs": [],
   "source": [
    "home = pd.read_csv('nba.games.stats - nba_2018.csv',usecols=['Team'])\n",
    "away = pd.read_csv('nba.games.stats - nba_2018.csv',usecols=['Opponent']).values\n",
    "ha = pd.read_csv('nba.games.stats - nba_2018.csv',usecols=['Home']).values\n",
    "home = encoder.fit_transform(home)\n",
    "away = encoder.fit_transform(away)\n",
    "homeaway = encoder.fit_transform(ha)"
   ]
  },
  {
   "cell_type": "code",
   "execution_count": 17,
   "metadata": {},
   "outputs": [
    {
     "name": "stdout",
     "output_type": "stream",
     "text": [
      "1958/1958 [==============================] - 0s 23us/step\n"
     ]
    },
    {
     "data": {
      "text/plain": [
       "[0.033998554198602184, 0.9586312563840653]"
      ]
     },
     "execution_count": 17,
     "metadata": {},
     "output_type": "execute_result"
    }
   ],
   "source": [
    "new = np.append(home,away,axis=1)\n",
    "new2 = pd.read_csv('nba.games.stats - nba_2018.csv',usecols=['FieldGoals','FieldGoalsAttempted','FieldGoals.','X3PointShots','X3PointShotsAttempted','X3PointShots.','FreeThrows','FreeThrowsAttempted','FreeThrows.','OffRebounds','TotalRebounds','Assists','Steals','Blocks','Turnovers','TotalFouls',\n",
    "                        'Opp.FieldGoals', 'Opp.3PointShotsAttempted', 'Opp.3PointShots.', 'Opp.FreeThrows', \n",
    "                        'Opp.FreeThrowsAttempted', 'Opp.FreeThrows.', 'Opp.OffRebounds', 'Opp.TotalRebounds', \n",
    "                        'Opp.Assists', 'Opp.Steals', 'Opp.Blocks', 'Opp.Turnovers', 'Opp.TotalFouls',\n",
    "                        'Opp.FieldGoalsAttempted', 'Opp.FieldGoals.', 'Opp.3PointShots']).values\n",
    "\n",
    "\n",
    "\n",
    "\n",
    "new3 = np.append(new,homeaway,axis=1)\n",
    "new2 = np.append(new3,new2,axis=1)\n",
    "winLoss =  pd.read_csv('nba.games.stats - nba_2018.csv',usecols=['WINorLOSS']).values\n",
    "winLoss = encoder.fit_transform(winLoss)\n",
    "# points = pd.read_csv('nba.games.stats.csv',usecols=['TeamPoints','OpponentPoints']).values\n",
    "# points = np.append(points,winLoss,axis=1)\n",
    "# points.shape\n",
    "points = winLoss\n",
    "# X_train, X_test, y_train, y_test = train_test_split(new2, points, test_size=0.40)\n",
    "model.evaluate(new2,winLoss)"
   ]
  },
  {
   "cell_type": "code",
   "execution_count": null,
   "metadata": {},
   "outputs": [],
   "source": []
  }
 ],
 "metadata": {
  "kernelspec": {
   "display_name": "Python 3",
   "language": "python",
   "name": "python3"
  },
  "language_info": {
   "codemirror_mode": {
    "name": "ipython",
    "version": 3
   },
   "file_extension": ".py",
   "mimetype": "text/x-python",
   "name": "python",
   "nbconvert_exporter": "python",
   "pygments_lexer": "ipython3",
   "version": "3.6.4"
  }
 },
 "nbformat": 4,
 "nbformat_minor": 2
}
