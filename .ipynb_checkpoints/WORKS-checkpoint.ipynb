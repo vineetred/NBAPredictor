{
 "cells": [
  {
   "cell_type": "code",
   "execution_count": 1,
   "metadata": {},
   "outputs": [
    {
     "name": "stderr",
     "output_type": "stream",
     "text": [
      "Using TensorFlow backend.\n",
      "/Library/Frameworks/Python.framework/Versions/3.6/lib/python3.6/importlib/_bootstrap.py:219: RuntimeWarning: compiletime version 3.5 of module 'tensorflow.python.framework.fast_tensor_util' does not match runtime version 3.6\n",
      "  return f(*args, **kwds)\n"
     ]
    },
    {
     "name": "stdout",
     "output_type": "stream",
     "text": [
      "Epoch 1/40\n",
      "4708/4708 [==============================] - 1s 151us/step - loss: 0.2778 - acc: 0.5397\n",
      "Epoch 2/40\n",
      "4708/4708 [==============================] - 0s 55us/step - loss: 0.2298 - acc: 0.6204\n",
      "Epoch 3/40\n",
      "4708/4708 [==============================] - 0s 57us/step - loss: 0.1863 - acc: 0.7260\n",
      "Epoch 4/40\n",
      "4708/4708 [==============================] - 0s 57us/step - loss: 0.1673 - acc: 0.7504\n",
      "Epoch 5/40\n",
      "4708/4708 [==============================] - 0s 60us/step - loss: 0.1497 - acc: 0.7780\n",
      "Epoch 6/40\n",
      "4708/4708 [==============================] - 0s 55us/step - loss: 0.1409 - acc: 0.7950\n",
      "Epoch 7/40\n",
      "4708/4708 [==============================] - 0s 54us/step - loss: 0.1337 - acc: 0.8052\n",
      "Epoch 8/40\n",
      "4708/4708 [==============================] - 0s 57us/step - loss: 0.1251 - acc: 0.8190\n",
      "Epoch 9/40\n",
      "4708/4708 [==============================] - 0s 60us/step - loss: 0.1188 - acc: 0.8322\n",
      "Epoch 10/40\n",
      "4708/4708 [==============================] - 0s 56us/step - loss: 0.1165 - acc: 0.8337\n",
      "Epoch 11/40\n",
      "4708/4708 [==============================] - 0s 60us/step - loss: 0.1167 - acc: 0.8343\n",
      "Epoch 12/40\n",
      "4708/4708 [==============================] - 0s 56us/step - loss: 0.1190 - acc: 0.8292\n",
      "Epoch 13/40\n",
      "4708/4708 [==============================] - 0s 53us/step - loss: 0.1080 - acc: 0.8443\n",
      "Epoch 14/40\n",
      "4708/4708 [==============================] - 0s 60us/step - loss: 0.1067 - acc: 0.8464\n",
      "Epoch 15/40\n",
      "4708/4708 [==============================] - 0s 61us/step - loss: 0.1047 - acc: 0.8530\n",
      "Epoch 16/40\n",
      "4708/4708 [==============================] - 0s 58us/step - loss: 0.1042 - acc: 0.8530\n",
      "Epoch 17/40\n",
      "4708/4708 [==============================] - 0s 58us/step - loss: 0.1042 - acc: 0.8524\n",
      "Epoch 18/40\n",
      "4708/4708 [==============================] - 0s 66us/step - loss: 0.0989 - acc: 0.8596\n",
      "Epoch 19/40\n",
      "4708/4708 [==============================] - 0s 59us/step - loss: 0.0986 - acc: 0.8592\n",
      "Epoch 20/40\n",
      "4708/4708 [==============================] - 0s 57us/step - loss: 0.0959 - acc: 0.8649\n",
      "Epoch 21/40\n",
      "4708/4708 [==============================] - 0s 60us/step - loss: 0.0956 - acc: 0.8679\n",
      "Epoch 22/40\n",
      "4708/4708 [==============================] - 0s 57us/step - loss: 0.0979 - acc: 0.8628\n",
      "Epoch 23/40\n",
      "4708/4708 [==============================] - 0s 59us/step - loss: 0.0979 - acc: 0.8600\n",
      "Epoch 24/40\n",
      "4708/4708 [==============================] - 0s 60us/step - loss: 0.0948 - acc: 0.8696\n",
      "Epoch 25/40\n",
      "4708/4708 [==============================] - 0s 57us/step - loss: 0.0914 - acc: 0.8751\n",
      "Epoch 26/40\n",
      "4708/4708 [==============================] - 0s 59us/step - loss: 0.0967 - acc: 0.8645\n",
      "Epoch 27/40\n",
      "4708/4708 [==============================] - 0s 56us/step - loss: 0.0901 - acc: 0.8723\n",
      "Epoch 28/40\n",
      "4708/4708 [==============================] - 0s 55us/step - loss: 0.0936 - acc: 0.8662\n",
      "Epoch 29/40\n",
      "4708/4708 [==============================] - 0s 60us/step - loss: 0.0916 - acc: 0.8766\n",
      "Epoch 30/40\n",
      "4708/4708 [==============================] - 0s 60us/step - loss: 0.0955 - acc: 0.8662\n",
      "Epoch 31/40\n",
      "4708/4708 [==============================] - 0s 57us/step - loss: 0.0900 - acc: 0.8808\n",
      "Epoch 32/40\n",
      "4708/4708 [==============================] - 0s 58us/step - loss: 0.0900 - acc: 0.8779\n",
      "Epoch 33/40\n",
      "4708/4708 [==============================] - 0s 66us/step - loss: 0.0890 - acc: 0.8768\n",
      "Epoch 34/40\n",
      "4708/4708 [==============================] - 0s 58us/step - loss: 0.0891 - acc: 0.8785\n",
      "Epoch 35/40\n",
      "4708/4708 [==============================] - 0s 60us/step - loss: 0.0877 - acc: 0.8781\n",
      "Epoch 36/40\n",
      "4708/4708 [==============================] - 0s 57us/step - loss: 0.0886 - acc: 0.8777\n",
      "Epoch 37/40\n",
      "4708/4708 [==============================] - 0s 60us/step - loss: 0.0875 - acc: 0.8779\n",
      "Epoch 38/40\n",
      "4708/4708 [==============================] - 0s 54us/step - loss: 0.0848 - acc: 0.8851\n",
      "Epoch 39/40\n",
      "4708/4708 [==============================] - 0s 55us/step - loss: 0.0851 - acc: 0.8796\n",
      "Epoch 40/40\n",
      "4708/4708 [==============================] - 0s 55us/step - loss: 0.0875 - acc: 0.8764\n",
      "3140/3140 [==============================] - 0s 37us/step\n",
      "[0.08007888820520633, 0.8869426751592356]\n",
      "367/367 [==============================] - 0s 28us/step\n",
      "[0.08288660196318451, 0.8910081743869209]\n",
      "_________________________________________________________________\n",
      "Layer (type)                 Output Shape              Param #   \n",
      "=================================================================\n",
      "dense_1 (Dense)              (None, 30)                2580      \n",
      "_________________________________________________________________\n",
      "dropout_1 (Dropout)          (None, 30)                0         \n",
      "_________________________________________________________________\n",
      "dense_2 (Dense)              (None, 25)                775       \n",
      "_________________________________________________________________\n",
      "dense_3 (Dense)              (None, 10)                260       \n",
      "_________________________________________________________________\n",
      "dense_4 (Dense)              (None, 1)                 11        \n",
      "=================================================================\n",
      "Total params: 3,626\n",
      "Trainable params: 3,626\n",
      "Non-trainable params: 0\n",
      "_________________________________________________________________\n",
      "[ 0.     0.     0.     0.     0.     0.     0.     0.     0.     0.\n",
      "  0.     0.     0.     0.     0.     0.     0.     0.     0.     0.\n",
      "  0.     0.     0.     0.     1.     0.     0.     0.     0.     0.\n",
      "  0.     0.     0.     0.     0.     0.     0.     0.     0.     0.\n",
      "  0.     0.     0.     0.     0.     1.     0.     0.     0.     0.\n",
      "  0.     0.     0.     0.     0.     0.     0.     0.     0.     0.\n",
      "  1.    83.    25.    30.     0.833  9.    50.    23.     5.     6.\n",
      " 12.    15.    91.     0.429 10.    11.    16.     0.688 10.    46.\n",
      " 24.     6.     4.    11.    24.   ]\n",
      "[[0.9420877]]\n"
     ]
    },
    {
     "data": {
      "text/plain": [
       "<Figure size 640x480 with 1 Axes>"
      ]
     },
     "metadata": {},
     "output_type": "display_data"
    }
   ],
   "source": [
    "\n",
    "import numpy as np\n",
    "import keras\n",
    "from keras.models import Sequential\n",
    "from keras.layers.core import Dense\n",
    "from keras.layers import Dropout,Conv2D\n",
    "from sklearn.model_selection import train_test_split\n",
    "import csv\n",
    "import pandas as pd\n",
    "import matplotlib.pyplot as plt\n",
    "from keras.utils import to_categorical\n",
    "from sklearn.preprocessing import LabelBinarizer\n",
    "encoder = LabelBinarizer()\n",
    "\n",
    "home = pd.read_csv('dataset/nba.games.stats - nba_prev.csv',usecols=['Team'])\n",
    "away = pd.read_csv('dataset/nba.games.stats - nba_prev.csv',usecols=['Opponent']).values\n",
    "ha = pd.read_csv('dataset/nba.games.stats - nba_prev.csv',usecols=['Home']).values\n",
    "\n",
    "home = encoder.fit_transform(home)\n",
    "away = encoder.fit_transform(away)\n",
    "homeaway = encoder.fit_transform(ha)\n",
    "\n",
    "new = np.append(home,away,axis=1)\n",
    "# new2 = pd.read_csv('dataset/nba.games.stats - nba_prev.csv',usecols=['FieldGoals','FieldGoalsAttempted','FieldGoals.','X3PointShots','X3PointShotsAttempted','X3PointShots.','FreeThrows','FreeThrowsAttempted','FreeThrows.','OffRebounds','TotalRebounds','Assists','Steals','Blocks','Turnovers','TotalFouls',\n",
    "#                         'Opp.FieldGoals', 'Opp.3PointShotsAttempted', 'Opp.3PointShots.', 'Opp.FreeThrows', \n",
    "#                         'Opp.FreeThrowsAttempted', 'Opp.FreeThrows.', 'Opp.OffRebounds', 'Opp.TotalRebounds', \n",
    "#                         'Opp.Assists', 'Opp.Steals', 'Opp.Blocks', 'Opp.Turnovers', 'Opp.TotalFouls',\n",
    "#                         'Opp.FieldGoalsAttempted', 'Opp.FieldGoals.', 'Opp.3PointShots']).values\n",
    "\n",
    "new2 = pd.read_csv('dataset/nba.games.stats - nba_prev.csv',usecols=['FieldGoalsAttempted','FreeThrows','FreeThrowsAttempted','FreeThrows.','OffRebounds','TotalRebounds','Assists','Steals','Blocks','Turnovers','TotalFouls',\n",
    "                        'Opp.FreeThrows', \n",
    "                        'Opp.FreeThrowsAttempted', 'Opp.FreeThrows.', 'Opp.OffRebounds', 'Opp.TotalRebounds', \n",
    "                        'Opp.Assists', 'Opp.Steals', 'Opp.Blocks', 'Opp.Turnovers', 'Opp.TotalFouls',\n",
    "                        'Opp.FieldGoalsAttempted', 'Opp.FieldGoals.', 'Opp.3PointShots']).values\n",
    "\n",
    "\n",
    "new3 = np.append(new,homeaway,axis=1)\n",
    "new2 = np.append(new3,new2,axis=1)\n",
    "winLoss =  pd.read_csv('dataset/nba.games.stats - nba_prev.csv',usecols=['WINorLOSS']).values\n",
    "winLoss = encoder.fit_transform(winLoss)\n",
    "points = pd.read_csv('dataset/nba.games.stats - nba_prev.csv',usecols=['TeamPoints','OpponentPoints']).values\n",
    "points = np.append(points,winLoss,axis=1)\n",
    "# points.shape\n",
    "# points = winLoss\n",
    "X_train, X_test, y_train, y_test = train_test_split(new2, winLoss, test_size=0.40)\n",
    "\n",
    "#MODEL\n",
    "model = Sequential()\n",
    "keras.optimizers.adam(lr=0.1)\n",
    "model.add(Dense(30, activation='relu',input_dim=85))\n",
    "model.add(Dropout(0.30))\n",
    "# model.add(Dense(46, activation='relu'))\n",
    "# model.add(Dense(30, activation='sigmoid'))\n",
    "model.add(Dense(25, activation='relu'))\n",
    "model.add(Dense(10, activation='relu'))\n",
    "\n",
    "# model.add(Dense(20, activation='relu'))\n",
    "model.add(Dense(1, activation = 'sigmoid'))\n",
    "\n",
    "model.compile(loss='mean_squared_error',\n",
    "              optimizer='adam',\n",
    "              metrics=['accuracy'])\n",
    "\n",
    "history = model.fit(np.asarray(X_train),np.asarray(y_train), epochs=40)\n",
    "print(model.evaluate(X_test,y_test))\n",
    "\n",
    "\n",
    "\n",
    "home = pd.read_csv('dataset/nba.games.stats - nba_2018.csv',usecols=['Team'])\n",
    "away = pd.read_csv('dataset/nba.games.stats - nba_2018.csv',usecols=['Opponent']).values\n",
    "# print(\"HOME: \", home[5],\"AWAY: \", away[5])\n",
    "ha = pd.read_csv('dataset/nba.games.stats - nba_2018.csv',usecols=['Home']).values\n",
    "home = encoder.fit_transform(home)\n",
    "away = encoder.fit_transform(away)\n",
    "homeaway = encoder.fit_transform(ha)\n",
    "\n",
    "\n",
    "\n",
    "new = np.append(home,away,axis=1)\n",
    "new2 = pd.read_csv('dataset/nba.games.stats - nba_2018.csv',usecols=['FieldGoalsAttempted','FreeThrows','FreeThrowsAttempted','FreeThrows.','OffRebounds','TotalRebounds','Assists','Steals','Blocks','Turnovers','TotalFouls',\n",
    "                        'Opp.FreeThrows', \n",
    "                        'Opp.FreeThrowsAttempted', 'Opp.FreeThrows.', 'Opp.OffRebounds', 'Opp.TotalRebounds', \n",
    "                        'Opp.Assists', 'Opp.Steals', 'Opp.Blocks', 'Opp.Turnovers', 'Opp.TotalFouls',\n",
    "                        'Opp.FieldGoalsAttempted', 'Opp.FieldGoals.', 'Opp.3PointShots']).values\n",
    "\n",
    "\n",
    "\n",
    "\n",
    "new3 = np.append(new,homeaway,axis=1)\n",
    "new2 = np.append(new3,new2,axis=1)\n",
    "winLoss =  pd.read_csv('dataset/nba.games.stats - nba_2018.csv',usecols=['WINorLOSS']).values\n",
    "winLoss = encoder.fit_transform(winLoss)\n",
    "points = pd.read_csv('dataset/nba.games.stats - nba_2018.csv',usecols=['TeamPoints','OpponentPoints']).values\n",
    "points = np.append(points,winLoss,axis=1)\n",
    "# points.shape\n",
    "# points = winLoss\n",
    "# X_train, X_test, y_train, y_test = train_test_split(new2, points, test_size=0.40)\n",
    "scores = model.evaluate(new2,winLoss)\n",
    "print(scores)\n",
    "model.summary()\n",
    "# print(scores)\n",
    "\n",
    "# predict = np.asarray([new2[5]])\n",
    "# hello = model.predict(predict)\n",
    "# print(hello[0][0], \"-\",hello[0][1])\n",
    "print(new2[5])\n",
    "predict = np.asarray([new2[6]])\n",
    "print(model.predict(predict))\n",
    "plt.plot(history.history['loss'])\n",
    "plt.show()"
   ]
  },
  {
   "cell_type": "code",
   "execution_count": 28,
   "metadata": {},
   "outputs": [],
   "source": [
    "home = pd.read_csv('dataset/nba.games.stats - nba_2018.csv',usecols=['Team'])\n",
    "away = pd.read_csv('dataset/nba.games.stats - nba_2018.csv',usecols=['Opponent'])"
   ]
  },
  {
   "cell_type": "code",
   "execution_count": 29,
   "metadata": {},
   "outputs": [
    {
     "data": {
      "text/plain": [
       "'SAS'"
      ]
     },
     "execution_count": 29,
     "metadata": {},
     "output_type": "execute_result"
    }
   ],
   "source": [
    "home['Team'][7]"
   ]
  },
  {
   "cell_type": "code",
   "execution_count": 30,
   "metadata": {},
   "outputs": [
    {
     "data": {
      "text/plain": [
       "'HOU'"
      ]
     },
     "execution_count": 30,
     "metadata": {},
     "output_type": "execute_result"
    }
   ],
   "source": [
    "away['Opponent'][7]"
   ]
  },
  {
   "cell_type": "code",
   "execution_count": 47,
   "metadata": {},
   "outputs": [
    {
     "data": {
      "text/plain": [
       "array([[0.06002964]], dtype=float32)"
      ]
     },
     "execution_count": 47,
     "metadata": {},
     "output_type": "execute_result"
    }
   ],
   "source": [
    "predict = np.asarray([new2[148]])\n",
    "model.predict(predict)"
   ]
  },
  {
   "cell_type": "code",
   "execution_count": 48,
   "metadata": {},
   "outputs": [
    {
     "data": {
      "text/plain": [
       "array([ 0.   ,  0.   ,  0.   ,  1.   ,  0.   ,  0.   ,  0.   ,  0.   ,\n",
       "        0.   ,  0.   ,  0.   ,  0.   ,  0.   ,  0.   ,  0.   ,  0.   ,\n",
       "        0.   ,  0.   ,  0.   ,  0.   ,  0.   ,  0.   ,  0.   ,  0.   ,\n",
       "        0.   ,  0.   ,  0.   ,  0.   ,  0.   ,  0.   ,  0.   ,  0.   ,\n",
       "        0.   ,  0.   ,  0.   ,  0.   ,  0.   ,  0.   ,  0.   ,  0.   ,\n",
       "        0.   ,  1.   ,  0.   ,  0.   ,  0.   ,  0.   ,  0.   ,  0.   ,\n",
       "        0.   ,  0.   ,  0.   ,  0.   ,  0.   ,  0.   ,  0.   ,  0.   ,\n",
       "        0.   ,  0.   ,  0.   ,  0.   ,  0.   , 83.   ,  8.   , 16.   ,\n",
       "        0.5  , 11.   , 46.   , 18.   ,  3.   ,  5.   , 16.   , 15.   ,\n",
       "       87.   ,  0.448, 12.   ,  8.   , 10.   ,  0.8  ,  7.   , 39.   ,\n",
       "       21.   ,  7.   ,  5.   , 13.   , 14.   ])"
      ]
     },
     "execution_count": 48,
     "metadata": {},
     "output_type": "execute_result"
    }
   ],
   "source": [
    "new2[148]"
   ]
  },
  {
   "cell_type": "code",
   "execution_count": 37,
   "metadata": {},
   "outputs": [
    {
     "name": "stdout",
     "output_type": "stream",
     "text": [
      "    Team\n",
      "9    CHI\n",
      "47   CHI\n",
      "79   CHI\n",
      "104  CHI\n",
      "123  CHI\n",
      "148  CHI\n",
      "175  CHI\n",
      "220  CHI\n",
      "237  CHI\n",
      "265  CHI\n",
      "292  CHI\n",
      "321  CHI\n",
      "341  CHI\n",
      "365  CHI\n"
     ]
    }
   ],
   "source": [
    "print(home.loc[home['Team']=='CHI'])"
   ]
  },
  {
   "cell_type": "code",
   "execution_count": 45,
   "metadata": {},
   "outputs": [
    {
     "name": "stdout",
     "output_type": "stream",
     "text": [
      "IND\n"
     ]
    }
   ],
   "source": [
    "print(away['Opponent'][148])"
   ]
  },
  {
   "cell_type": "code",
   "execution_count": null,
   "metadata": {},
   "outputs": [],
   "source": []
  }
 ],
 "metadata": {
  "kernelspec": {
   "display_name": "Python 3",
   "language": "python",
   "name": "python3"
  },
  "language_info": {
   "codemirror_mode": {
    "name": "ipython",
    "version": 3
   },
   "file_extension": ".py",
   "mimetype": "text/x-python",
   "name": "python",
   "nbconvert_exporter": "python",
   "pygments_lexer": "ipython3",
   "version": "3.6.4"
  }
 },
 "nbformat": 4,
 "nbformat_minor": 2
}
