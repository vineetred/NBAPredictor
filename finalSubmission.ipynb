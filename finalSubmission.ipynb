{
 "cells": [
  {
   "cell_type": "code",
   "execution_count": null,
   "metadata": {},
   "outputs": [],
   "source": [
    "\n",
    "import numpy as np\n",
    "import keras\n",
    "from keras.models import Sequential\n",
    "from keras.layers.core import Dense\n",
    "from keras.layers import Dropout,Conv2D\n",
    "from sklearn.model_selection import train_test_split\n",
    "import csv\n",
    "import pandas as pd\n",
    "import matplotlib.pyplot as plt\n",
    "from keras.utils import to_categorical\n",
    "from sklearn.preprocessing import LabelBinarizer\n",
    "encoder = LabelBinarizer()\n"
   ]
  },
  {
   "cell_type": "code",
   "execution_count": null,
   "metadata": {},
   "outputs": [],
   "source": [
    "main = pd.read_csv('dataset/main.csv')\n",
    "home = pd.read_csv('dataset/main.csv',usecols=['Team'])\n",
    "away = pd.read_csv('dataset/main.csv',usecols=['Opponent']).values\n",
    "ha = pd.read_csv('dataset/main.csv',usecols=['Home']).values\n",
    "#One Hot encoding\n",
    "\n",
    "home = encoder.fit_transform(home)\n",
    "away = encoder.fit_transform(away)\n",
    "homeaway = encoder.fit_transform(ha)\n",
    "\n",
    "team = np.append(home,away,axis=1)"
   ]
  },
  {
   "cell_type": "code",
   "execution_count": null,
   "metadata": {},
   "outputs": [],
   "source": [
    "#Loading stats\n",
    "#Preparing Data\n",
    "statistics = pd.read_csv('dataset/main.csv')\n",
    "statistics = statistics[['FieldGoalsAttempted','FreeThrows','FreeThrowsAttempted','FreeThrows.','OffRebounds','TotalRebounds','Assists','Steals','Blocks','Turnovers','TotalFouls',\n",
    "                        'Opp.FreeThrows', \n",
    "                        'Opp.FreeThrowsAttempted', 'Opp.FreeThrows.', 'Opp.OffRebounds', 'Opp.TotalRebounds', \n",
    "                        'Opp.Assists', 'Opp.Steals', 'Opp.Blocks', 'Opp.Turnovers', 'Opp.TotalFouls',\n",
    "                        'Opp.FieldGoalsAttempted', 'Opp.FieldGoals.', 'Opp.3PointShots']].values\n",
    "oneHot = np.append(team,homeaway,axis=1)\n",
    "statistics = np.append(oneHot,statistics,axis=1)\n",
    "#Output data\n",
    "winLoss =  pd.read_csv('dataset/main.csv',usecols=['WINorLOSS']).values\n",
    "winLoss = encoder.fit_transform(winLoss)\n",
    "points = pd.read_csv('dataset/main.csv',usecols=['TeamPoints','OpponentPoints']).values\n",
    "points = np.append(points,winLoss,axis=1)\n",
    "\n",
    "X_train, X_test, y_train, y_test = train_test_split(statistics, winLoss, test_size=0.20)"
   ]
  },
  {
   "cell_type": "code",
   "execution_count": null,
   "metadata": {},
   "outputs": [],
   "source": [
    "#MODEL\n",
    "model = Sequential()\n",
    "keras.optimizers.adam(lr=0.1)\n",
    "\n",
    "model.add(Dense(30, activation='relu',input_dim=85))\n",
    "model.add(Dropout(0.30))\n",
    "model.add(Dense(25, activation='relu'))\n",
    "model.add(Dense(10, activation='relu'))\n",
    "model.add(Dense(1, activation = 'sigmoid'))\n",
    "\n",
    "model.compile(loss='binary_crossentropy',\n",
    "              optimizer='adam',\n",
    "              metrics=['accuracy'])\n",
    "\n",
    "history = model.fit(np.asarray(X_train),np.asarray(y_train), epochs=50)\n"
   ]
  },
  {
   "cell_type": "code",
   "execution_count": null,
   "metadata": {},
   "outputs": [],
   "source": [
    "#Testing\n",
    "print(model.evaluate(X_test,y_test))\n",
    "model.summary()"
   ]
  },
  {
   "cell_type": "code",
   "execution_count": null,
   "metadata": {},
   "outputs": [],
   "source": [
    "plt.plot(history.history['acc'])\n",
    "plt.title('Model Accuracy on Training')\n",
    "plt.ylabel('Accuracy')\n",
    "plt.xlabel('Epochs')\n",
    "plt.show()"
   ]
  },
  {
   "cell_type": "code",
   "execution_count": null,
   "metadata": {},
   "outputs": [],
   "source": [
    "#CLI UI\n",
    "while(True):\n",
    "#NEED TO LOAD DATA AGAIN!\n",
    "    stats = pd.read_csv('dataset/predict.csv')\n",
    "    stats\n",
    "    home = pd.read_csv('dataset/predict.csv',usecols=['Team'])\n",
    "    away = pd.read_csv('dataset/predict.csv',usecols=['Opponent']).values\n",
    "    ha = pd.read_csv('dataset/predict.csv',usecols=['Home']).values\n",
    "    home = encoder.fit_transform(home)\n",
    "    away = encoder.fit_transform(away)\n",
    "    homeaway = encoder.fit_transform(ha)\n",
    "\n",
    "    t1 = input(\"Enter home team: \")\n",
    "    t2 = input(\"Enter away team: \")\n",
    "\n",
    "    #Finding the row where these teams match\n",
    "    location = stats.loc[(stats['Team']==t1) & (stats['Opponent']==t2)&(stats['Home']=='Home')].index\n",
    "    teams = np.append(home[location[0]],away[location[0]])\n",
    "    teams = np.append(teams,homeaway[location[0]])\n",
    "    statsPredict = stats[(stats['Team']==t1) & (stats['Opponent']==t2)&(stats['Home']=='Home')]\n",
    "    statsPredict = statsPredict[['FieldGoalsAttempted','FreeThrows','FreeThrowsAttempted','FreeThrows.','OffRebounds','TotalRebounds','Assists','Steals','Blocks','Turnovers','TotalFouls',\n",
    "                            'Opp.FreeThrows', \n",
    "                            'Opp.FreeThrowsAttempted', 'Opp.FreeThrows.', 'Opp.OffRebounds', 'Opp.TotalRebounds', \n",
    "                            'Opp.Assists', 'Opp.Steals', 'Opp.Blocks', 'Opp.Turnovers', 'Opp.TotalFouls',\n",
    "                            'Opp.FieldGoalsAttempted', 'Opp.FieldGoals.', 'Opp.3PointShots']].values\n",
    "\n",
    "    statsPredict = statsPredict.mean(axis=0)\n",
    "    statsPredict = np.transpose(statsPredict)\n",
    "    teams = np.append(teams,statsPredict)\n",
    "    #PREDICTION!!!!!\n",
    "    #PRINTING\n",
    "    prediction = model.predict(np.asarray([teams]))\n",
    "    print(prediction)\n",
    "    if(prediction>0.5):\n",
    "        print(t1, \"WINS\")\n",
    "    else:\n",
    "        print(t2,\"WINS\")\n",
    "    if(prediction>0.45 and prediction<0.55):\n",
    "        print(\"Game will be close\")\n"
   ]
  }
 ],
 "metadata": {
  "kernelspec": {
   "display_name": "Python 3",
   "language": "python",
   "name": "python3"
  },
  "language_info": {
   "codemirror_mode": {
    "name": "ipython",
    "version": 3
   },
   "file_extension": ".py",
   "mimetype": "text/x-python",
   "name": "python",
   "nbconvert_exporter": "python",
   "pygments_lexer": "ipython3",
   "version": "3.6.4"
  }
 },
 "nbformat": 4,
 "nbformat_minor": 2
}
